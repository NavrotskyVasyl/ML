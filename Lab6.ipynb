{
 "cells": [
  {
   "cell_type": "code",
   "execution_count": 12,
   "metadata": {
    "collapsed": true
   },
   "outputs": [],
   "source": [
    "import tensorflow as tf\n",
    "import numpy as np\n",
    "import math\n",
    "import os\n",
    "%matplotlib inline"
   ]
  },
  {
   "cell_type": "code",
   "execution_count": 2,
   "metadata": {
    "collapsed": true
   },
   "outputs": [],
   "source": [
    "def autoencoder(dimensions):\n",
    "    x = tf.placeholder(tf.float32, [None, dimensions[0]], name='x')\n",
    "    current_input = x\n",
    "    \n",
    "    encoder = []\n",
    "    for layer_i, n_output in enumerate(dimensions[1:]):\n",
    "        n_input = int(current_input.get_shape()[1])\n",
    "        W = tf.Variable(\n",
    "            tf.random_uniform([n_input, n_output],\n",
    "                              -1.0 / math.sqrt(n_input),\n",
    "                              1.0 / math.sqrt(n_input)))\n",
    "        b = tf.Variable(tf.zeros([n_output]))\n",
    "        encoder.append(W)\n",
    "        output = tf.nn.tanh(tf.matmul(current_input, W) + b)\n",
    "        current_input = output\n",
    "        \n",
    "    z = current_input\n",
    "    encoder.reverse()\n",
    "    \n",
    "    for layer_i, n_output in enumerate(dimensions[:-1][::-1]):\n",
    "        W = tf.transpose(encoder[layer_i])\n",
    "        b = tf.Variable(tf.zeros([n_output]))\n",
    "        output = tf.nn.tanh(tf.matmul(current_input, W) + b)\n",
    "        current_input = output\n",
    "        \n",
    "    y = current_input\n",
    "    cost = tf.reduce_sum(tf.square(y - x))\n",
    "    return {'x': x, 'z': z, 'y': y, 'cost': cost}"
   ]
  },
  {
   "cell_type": "code",
   "execution_count": 3,
   "metadata": {
    "collapsed": true
   },
   "outputs": [],
   "source": [
    "def unpickle(file):\n",
    "    import cPickle\n",
    "    fo = open(file, 'rb')\n",
    "    dict = cPickle.load(fo)\n",
    "    fo.close()\n",
    "    return dict\n",
    "\n",
    "def load_data(filename):\n",
    "    if not \"cifar-10-batches-py\" in os.getcwd():\n",
    "        os.chdir(os.path.join(os.getcwd(), \"cifar-10-batches-py\"))\n",
    "    dataset = unpickle(filename)\n",
    "    labels = unpickle(\"batches.meta\")\n",
    "    return dataset, labels"
   ]
  },
  {
   "cell_type": "code",
   "execution_count": 26,
   "metadata": {
    "collapsed": true
   },
   "outputs": [],
   "source": [
    "def test_autoencoder():\n",
    "    import matplotlib.pyplot as plt\n",
    "\n",
    "    dataset = {}\n",
    "    dataset1, _ = load_data(\"data_batch_1\")\n",
    "    dataset.update(dataset1)\n",
    "    dataset2, _ = load_data(\"data_batch_2\")\n",
    "    dataset.update(dataset2)\n",
    "    dataset3, _ = load_data(\"data_batch_3\")\n",
    "    dataset.update(dataset3)\n",
    "    dataset4, _ = load_data(\"data_batch_4\")\n",
    "    dataset.update(dataset4)\n",
    "    dataset5, _ = load_data(\"data_batch_5\")\n",
    "    dataset.update(dataset5)\n",
    "    \n",
    "    mean_img = np.mean(dataset['data'])\n",
    "    max_img = np.max(dataset['data'] - mean_img)\n",
    "    \n",
    "    ae = autoencoder(dimensions=[3072, 2048, 1024, 512])\n",
    "    \n",
    "    learning_rate = 0.001\n",
    "    optimizer = tf.train.AdamOptimizer(learning_rate).minimize(ae['cost'])\n",
    "    \n",
    "    sess = tf.Session()\n",
    "    sess.run(tf.initialize_all_variables())\n",
    "    \n",
    "    batch_size = 300\n",
    "    n_epochs = 5\n",
    "    for epoch_i in range(n_epochs):\n",
    "        for batch_i in range(len(dataset['data']) // batch_size):\n",
    "            batch_xs = dataset['data'][batch_i * batch_size : (batch_i + 1) * batch_size]\n",
    "            train = np.array([(img - mean_img) / max_img for img in batch_xs], dtype=np.float)\n",
    "            sess.run(optimizer, feed_dict={ae['x']: train})\n",
    "        print(epoch_i, sess.run(ae['cost'], feed_dict={ae['x']: train}))\n",
    "        \n",
    "    test_xs, _ = load_data(\"test_batch\")\n",
    "    test_xs = test_xs['data']\n",
    "    \n",
    "    fig, axs = plt.subplots(2, 10, figsize=(40, 10))\n",
    "    \n",
    "    for i, image in enumerate(test_xs[:10]):\n",
    "        test_x_norm = np.array((image - mean_img) / max_img, dtype=np.float)\n",
    "\n",
    "        recon = sess.run(ae['y'], feed_dict={ae['x']: np.reshape(test_x_norm, (1,3072))})\n",
    "        recon = np.array(recon * max_img + mean_img, dtype=np.uint8)\n",
    "        axs[0][i].imshow(np.reshape(image, (32,32,3), order=\"F\"))\n",
    "        axs[1][i].imshow(np.reshape(recon, (32,32,3), order=\"F\"))\n",
    "    plt.show()\n",
    "        "
   ]
  },
  {
   "cell_type": "code",
   "execution_count": null,
   "metadata": {
    "collapsed": false
   },
   "outputs": [],
   "source": [
    "test_autoencoder()"
   ]
  },
  {
   "cell_type": "code",
   "execution_count": null,
   "metadata": {
    "collapsed": true
   },
   "outputs": [],
   "source": []
  }
 ],
 "metadata": {
  "kernelspec": {
   "display_name": "Python 2",
   "language": "python",
   "name": "python2"
  },
  "language_info": {
   "codemirror_mode": {
    "name": "ipython",
    "version": 2
   },
   "file_extension": ".py",
   "mimetype": "text/x-python",
   "name": "python",
   "nbconvert_exporter": "python",
   "pygments_lexer": "ipython2",
   "version": "2.7.11"
  }
 },
 "nbformat": 4,
 "nbformat_minor": 1
}
